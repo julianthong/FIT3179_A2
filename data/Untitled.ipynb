{
 "cells": [
  {
   "cell_type": "code",
   "execution_count": 2,
   "id": "e483d765",
   "metadata": {},
   "outputs": [],
   "source": [
    "import pandas as pd\n",
    "\n",
    "# Read your original CSV data\n",
    "df = pd.read_csv(\"global-energy-substitution.csv\")\n",
    "\n",
    "# Reshape the data\n",
    "melted_df = df.melt(id_vars=[\"Year\"], var_name=\"source\", value_name=\"value\")\n",
    "\n",
    "# Save the reshaped data to a new CSV file\n",
    "melted_df.to_csv(\"reshaped_data.csv\", index=False)\n"
   ]
  }
 ],
 "metadata": {
  "kernelspec": {
   "display_name": "Python 3",
   "language": "python",
   "name": "python3"
  },
  "language_info": {
   "codemirror_mode": {
    "name": "ipython",
    "version": 3
   },
   "file_extension": ".py",
   "mimetype": "text/x-python",
   "name": "python",
   "nbconvert_exporter": "python",
   "pygments_lexer": "ipython3",
   "version": "3.11.3"
  }
 },
 "nbformat": 4,
 "nbformat_minor": 5
}
